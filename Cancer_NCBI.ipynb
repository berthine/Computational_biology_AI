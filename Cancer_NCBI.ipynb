{
 "cells": [
  {
   "cell_type": "markdown",
   "metadata": {},
   "source": [
    "## AI AND COMPUTATIONAL BIOLOGY \n",
    "### By BERTHINE NYUNGA"
   ]
  },
  {
   "cell_type": "markdown",
   "metadata": {},
   "source": [
    "<img src=\"disease_exercise.png\" width=\"800\" height=\"400\">"
   ]
  },
  {
   "cell_type": "markdown",
   "metadata": {},
   "source": [
    "## 1. The disease of interest: Breast cancer"
   ]
  },
  {
   "cell_type": "markdown",
   "metadata": {},
   "source": [
    "## 2. The name associated to the disease:\n",
    "\n",
    "BRCA2 BRCA2 DNA repair associated[Homo sapiens]\n",
    "Gene ID: 675, updated on 21-Jun-2020"
   ]
  },
  {
   "cell_type": "markdown",
   "metadata": {},
   "source": [
    "## 3. The sequence in human and the location of the gene in Human genome:\n",
    "\n",
    "Location: 13q13.1\n",
    "\n",
    "Annotation release\tStatus\tAssembly\tChromosome\tLocation\n",
    "-------------------------------------------------------------------------------------------------\n",
    "109.20200522\tcurrent\tGRCh38.p13 (GCF_000001405.39)\t13\tNC_000013.11 (32315508..32400268) \n",
    "105\tprevious assembly\tGRCh37.p13 (GCF_000001405.25)\t13\tNC_000013.10 (32889617..32973809) \n",
    "Exont count: 27"
   ]
  },
  {
   "cell_type": "markdown",
   "metadata": {},
   "source": [
    "## 4. The DNA sequence of the gene"
   ]
  },
  {
   "cell_type": "code",
   "execution_count": 1,
   "metadata": {},
   "outputs": [],
   "source": [
    "from Bio import SeqIO"
   ]
  },
  {
   "cell_type": "code",
   "execution_count": 2,
   "metadata": {},
   "outputs": [
    {
     "name": "stdout",
     "output_type": "stream",
     "text": [
      "ID: NC_000013.11:32315508-32400268\n",
      "Name: NC_000013.11:32315508-32400268\n",
      "Description: NC_000013.11:32315508-32400268 Homo sapiens chromosome 13, GRCh38.p13 Primary Assembly\n",
      "Number of features: 0\n",
      "Seq('AGAGGCGGAGCCGCTGTGGCACTGCTGCGCCTCTGCTGCGCCTCGGGTGTCTTT...TGA', SingleLetterAlphabet())\n",
      "84761 nucliotides\n"
     ]
    }
   ],
   "source": [
    "for sequence in SeqIO.parse('sequence_disease.fasta', \"fasta\"):\n",
    "    print(sequence)\n",
    "    print(len(sequence),'nucliotides')"
   ]
  },
  {
   "cell_type": "code",
   "execution_count": 4,
   "metadata": {},
   "outputs": [
    {
     "data": {
      "text/plain": [
       "Seq('AGAGGCGGAGCCGCTGTGGCACTGCTGCGCCTCTGCTGCGCCTCGGGTGTCTTT...TGA', SingleLetterAlphabet())"
      ]
     },
     "execution_count": 4,
     "metadata": {},
     "output_type": "execute_result"
    }
   ],
   "source": []
  },
  {
   "cell_type": "markdown",
   "metadata": {},
   "source": [
    "## 5. The known variant associated to gene in relation of the disease \n",
    "\n",
    "The BRCA2  has 12361 variants associated."
   ]
  },
  {
   "cell_type": "markdown",
   "metadata": {},
   "source": [
    "<img src=\"variantion_cancer.png\" width=\"800\" height=\"400\">"
   ]
  },
  {
   "cell_type": "markdown",
   "metadata": {},
   "source": [
    "## One of the variant\n",
    "\n",
    "\n",
    "VARIATION\n",
    "-------------------------------------------------------------------------------------------------\n",
    "\n",
    "See variants in ClinVar, http://130.14.22.59/sites/gene/clinvar/?term=BRCA2[gene]\n",
    "See studies and variants in dbVar, http://130.14.22.59/sites/gene\n",
    "See Variation Viewer (GRCh37.p13), http://130.14.22.59/sites/gene/variation/view/?q=675[geneid]&amp;assm=GCF_000001405.25\n",
    "See Variation Viewer (GRCh38), http://130.14.22.59/sites/gene/variation/view/?q=675[geneid]<pre/><pre>\n",
    "Genotypes\n",
    "\tSee  SNP Geneview Report, http%3A%2F%2Fwww.ncbi.nlm.nih.gov%2FSNP%2Fsnp_ref.cgi%3FlocusId%3D675\n",
    "\tSee 1000 Genomes Browser (GCF_000001405.25), http://130.14.22.59/sites/gene/variation/tools/1000genomes/?q=675[geneid]&amp;assm=GCF_000001405.25</pre>\n"
   ]
  },
  {
   "cell_type": "markdown",
   "metadata": {},
   "source": [
    "<img src=\"var_cancer.png\" width=\"800\" height=\"400\">"
   ]
  },
  {
   "cell_type": "code",
   "execution_count": null,
   "metadata": {},
   "outputs": [],
   "source": []
  }
 ],
 "metadata": {
  "kernelspec": {
   "display_name": "Python 3",
   "language": "python",
   "name": "python3"
  },
  "language_info": {
   "codemirror_mode": {
    "name": "ipython",
    "version": 3
   },
   "file_extension": ".py",
   "mimetype": "text/x-python",
   "name": "python",
   "nbconvert_exporter": "python",
   "pygments_lexer": "ipython3",
   "version": "3.7.4"
  }
 },
 "nbformat": 4,
 "nbformat_minor": 4
}
